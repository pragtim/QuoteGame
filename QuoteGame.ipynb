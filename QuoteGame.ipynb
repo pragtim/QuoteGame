{
  "nbformat": 4,
  "nbformat_minor": 0,
  "metadata": {
    "colab": {
      "name": "QuoteGame.ipynb",
      "provenance": [],
      "authorship_tag": "ABX9TyNmCeSHzXGuFQJ/+ebAAorm",
      "include_colab_link": true
    },
    "kernelspec": {
      "name": "python3",
      "display_name": "Python 3"
    },
    "language_info": {
      "name": "python"
    }
  },
  "cells": [
    {
      "cell_type": "markdown",
      "metadata": {
        "id": "view-in-github",
        "colab_type": "text"
      },
      "source": [
        "<a href=\"https://colab.research.google.com/github/pragtim/QuoteGame/blob/main/QuoteGame.ipynb\" target=\"_parent\"><img src=\"https://colab.research.google.com/assets/colab-badge.svg\" alt=\"Open In Colab\"/></a>"
      ]
    },
    {
      "cell_type": "markdown",
      "metadata": {
        "id": "TNYZRwtE4VbL"
      },
      "source": [
        "Scraping a site to get quotes and author's details.\n"
      ]
    },
    {
      "cell_type": "code",
      "metadata": {
        "id": "K1etnw034Ux0"
      },
      "source": [
        "import requests\n",
        "from bs4 import BeautifulSoup\n",
        "from time import sleep\n",
        "from csv import DictWriter\n",
        "\n",
        "BASE_URL = \"http://quotes.toscrape.com\"\n",
        "\n",
        "def scrape_quotes():\n",
        "    all_quotes = []\n",
        "    url = \"/page/1\"\n",
        "    while url:\n",
        "        res = requests.get(f\"{BASE_URL}{url}\")\n",
        "        print(f\"Now scraping {BASE_URL}{url}\")\n",
        "        soup = BeautifulSoup(res.text, \"html.parser\")\n",
        "        quotes = soup.find_all(class_=\"quote\")\n",
        "\n",
        "        for quote in quotes:\n",
        "            all_quotes.append({\n",
        "                \"text\": quote.find(class_=\"text\").get_text(),\n",
        "                \"author\": quote.find(class_=\"author\").get_text(),\n",
        "                \"bio-link\": quote.find(\"a\")[\"href\"] \n",
        "            })\n",
        "\n",
        "        next_btn = soup.find(class_=\"next\")\n",
        "        url = next_btn.find(\"a\")[\"href\"] if next_btn else None\n",
        "        \n",
        "    return all_quotes"
      ],
      "execution_count": 9,
      "outputs": []
    },
    {
      "cell_type": "code",
      "metadata": {
        "id": "hWuASHeW43wF"
      },
      "source": [
        "#creating a csv\n",
        "def write_quotes(quotes):\n",
        "    with open(\"quotes.csv\", 'w') as file:\n",
        "        headers = [\"text\", \"author\", \"bio-link\"]\n",
        "        csv_writer = DictWriter(file, fieldnames=headers)\n",
        "        csv_writer.writeheader()\n",
        "        for quote in quotes:\n",
        "            csv_writer.writerow(quote)\n"
      ],
      "execution_count": 10,
      "outputs": []
    },
    {
      "cell_type": "code",
      "metadata": {
        "colab": {
          "base_uri": "https://localhost:8080/"
        },
        "id": "izHO4ioj5TdK",
        "outputId": "fa88b6ba-b4b8-4d41-cde8-a60c2a4ae914"
      },
      "source": [
        "quotes = scrape_quotes()\n",
        "write_quotes(quotes)"
      ],
      "execution_count": 11,
      "outputs": [
        {
          "output_type": "stream",
          "text": [
            "Now scraping http://quotes.toscrape.com/page/1\n",
            "Now scraping http://quotes.toscrape.com/page/2/\n",
            "Now scraping http://quotes.toscrape.com/page/3/\n",
            "Now scraping http://quotes.toscrape.com/page/4/\n",
            "Now scraping http://quotes.toscrape.com/page/5/\n",
            "Now scraping http://quotes.toscrape.com/page/6/\n",
            "Now scraping http://quotes.toscrape.com/page/7/\n",
            "Now scraping http://quotes.toscrape.com/page/8/\n",
            "Now scraping http://quotes.toscrape.com/page/9/\n",
            "Now scraping http://quotes.toscrape.com/page/10/\n"
          ],
          "name": "stdout"
        }
      ]
    },
    {
      "cell_type": "code",
      "metadata": {
        "id": "BO4RJiPC5cNC"
      },
      "source": [
        "from csv import DictReader\n",
        "from random import choice\n",
        "\n",
        "#Reading the csv\n",
        "def read_quotes(filename):\n",
        "    with open(filename) as file:\n",
        "        csv_reader = DictReader(file)\n",
        "        return list(csv_reader)"
      ],
      "execution_count": 12,
      "outputs": []
    },
    {
      "cell_type": "code",
      "metadata": {
        "id": "V_8UdW5p5ssq"
      },
      "source": [
        "def start_game(quotes):\n",
        "    quote = choice(quotes)\n",
        "    print(\"The quote is :\")\n",
        "    print(quote[\"text\"])\n",
        "    print(quote[\"author\"])\n",
        "\n",
        "    remaining_guesses = 3\n",
        "    guess = ''\n",
        "    while guess.lower() != quote[\"author\"].lower() and remaining_guesses:\n",
        "        guess = input(f\"Who said this quote? Guess/es remaining: {remaining_guesses}: \")\n",
        "        if guess.lower() == quote[\"author\"].lower():\n",
        "            print(\"You got it right!\")\n",
        "            break\n",
        "\n",
        "        remaining_guesses -= 1\n",
        "        if remaining_guesses == 2:\n",
        "            res = requests.get(f\"{BASE_URL}{quote['bio-link']}\")\n",
        "            soup = BeautifulSoup(res.text, \"html.parser\")\n",
        "            birth_date = soup.find(class_=\"author-born-date\").get_text()\n",
        "            birth_place = soup.find(class_=\"author-born-location\").get_text()\n",
        "            print(f\"Here's hint: The author was born on {birth_date} {birth_place}\")\n",
        "        elif remaining_guesses == 1:\n",
        "            print(f\"Here's a hint. The author's first name starts with {quote['author'][0]}\")\n",
        "            last_initial = quote[\"author\"].split(\" \")[1][0]\n",
        "            print(f\"And last name starts with {last_initial}\")\n",
        "        else:\n",
        "            print(f\"Sorry no more guesses remaining. The answer was {quote['author']}\")\n",
        "\n",
        "    again = ''\n",
        "    while again.lower() not in ('y', 'n'):\n",
        "        again = input(\"Would you like to play again (y/n)? \")\n",
        "    if again.lower() == 'y':\n",
        "        return start_game(quotes)\n",
        "    else:\n",
        "        print(\"GAME FINISH\")\n",
        "\n"
      ],
      "execution_count": 21,
      "outputs": []
    },
    {
      "cell_type": "code",
      "metadata": {
        "colab": {
          "base_uri": "https://localhost:8080/"
        },
        "id": "GJx1LJR66qkd",
        "outputId": "f5a0e623-0607-46a8-e943-65425248eb8a"
      },
      "source": [
        "\n",
        "lquotes = read_quotes(\"quotes.csv\")\n",
        "start_game(quotes)"
      ],
      "execution_count": 22,
      "outputs": [
        {
          "output_type": "stream",
          "text": [
            "The quote is :\n",
            "“Life is what happens to us while we are making other plans.”\n",
            "Allen Saunders\n",
            "Who said this quote? Guess/es remaining: 3: mk\n",
            "Here's hint: The author was born on April 24, 1899 in The United States\n",
            "Who said this quote? Guess/es remaining: 2: mk\n",
            "Here's a hint. The author's first name starts with A\n",
            "And last name starts with S\n",
            "Who said this quote? Guess/es remaining: 1: nj\n",
            "Sorry no more guesses remaining. The answer was Allen Saunders\n",
            "Would you like to play again (y/n)? n\n",
            "GAME FINISH\n"
          ],
          "name": "stdout"
        }
      ]
    },
    {
      "cell_type": "code",
      "metadata": {
        "id": "YVZdtY8T6rjY"
      },
      "source": [
        ""
      ],
      "execution_count": null,
      "outputs": []
    },
    {
      "cell_type": "code",
      "metadata": {
        "id": "UD5WrX5S-bSE"
      },
      "source": [
        "from google.colab import drive\n",
        "drive.mount('/content/drive')"
      ],
      "execution_count": null,
      "outputs": []
    }
  ]
}